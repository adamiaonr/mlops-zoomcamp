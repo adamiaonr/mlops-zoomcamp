{
 "cells": [
  {
   "cell_type": "code",
   "execution_count": 1,
   "id": "2c51efaa",
   "metadata": {},
   "outputs": [
    {
     "name": "stdout",
     "output_type": "stream",
     "text": [
      "scikit-learn==1.0.2\n"
     ]
    }
   ],
   "source": [
    "!pip freeze | grep scikit-learn"
   ]
  },
  {
   "cell_type": "code",
   "execution_count": 2,
   "id": "0ef880a0",
   "metadata": {},
   "outputs": [],
   "source": [
    "import os\n",
    "import pickle\n",
    "import pandas as pd\n"
   ]
  },
  {
   "cell_type": "code",
   "execution_count": 3,
   "id": "4854399a",
   "metadata": {},
   "outputs": [],
   "source": [
    "year = 2021\n",
    "month = 2\n",
    "taxi_type = 'fhv'\n",
    "\n",
    "# input file (downloaded directly from NYC taxi dataset website)\n",
    "input_file = f'https://nyc-tlc.s3.amazonaws.com/trip+data/fhv_tripdata_{year:04d}-{month:02d}.parquet'\n",
    "# output .parquet file\n",
    "output_file = f'./{taxi_type}/{year:04d}-{month:02d}.parquet'\n",
    "model_path = './model.bin'\n"
   ]
  },
  {
   "cell_type": "code",
   "execution_count": 4,
   "id": "669fda0a",
   "metadata": {},
   "outputs": [],
   "source": [
    "def load_model(model_path:str):\n",
    "  with open(model_path, 'rb') as f_in:\n",
    "      dv, lr = pickle.load(f_in)\n",
    "  \n",
    "  return dv, lr\n",
    "\n",
    "def __extract_year_month(filename) -> tuple[str, str]:\n",
    "  return filename.split('_')[-1].split('-')[0], filename.split('_')[-1].split('-')[1].replace('.parquet', '')\n",
    "\n",
    "def read_data(filename):\n",
    "    df = pd.read_parquet(filename)\n",
    "\n",
    "    # add a 'ride id' column to uniquely identify a ride\n",
    "    year, month = __extract_year_month(filename)\n",
    "    df['ride_id'] = f'{year}/{month}_' + df.index.astype('str')\n",
    "    \n",
    "    df['duration'] = df.dropOff_datetime - df.pickup_datetime\n",
    "    df['duration'] = df.duration.dt.total_seconds() / 60\n",
    "\n",
    "    df = df[(df.duration >= 1) & (df.duration <= 60)].copy()\n",
    "\n",
    "    return df\n",
    "\n",
    "def prepare_dictionaries(data: pd.DataFrame, categorical:list = ['PUlocationID', 'DOlocationID']):\n",
    "  data[categorical] = data[categorical].fillna(-1).astype('int').astype('str')\n",
    "  dicts = data[categorical].to_dict(orient='records')\n",
    "\n",
    "  return dicts\n",
    "\n",
    "def save_results(data:pd.DataFrame, predictions, output_file:str):\n",
    "    df_result = pd.DataFrame(\n",
    "      {\n",
    "        'ride_id' : data['ride_id'].values,\n",
    "        'predicted_duration' : predictions\n",
    "      }\n",
    "    )\n",
    "\n",
    "    df_result.to_parquet(\n",
    "      output_file,\n",
    "      engine='pyarrow',\n",
    "      compression=None,\n",
    "      index=False\n",
    "    )\n",
    "\n",
    "def apply_model(input_file:str, model_path:str, output_file:str):\n",
    "  df = read_data(input_file)\n",
    "  dv, lr = load_model(model_path)\n",
    "  dicts = prepare_dictionaries(df)\n",
    "  X_val = dv.transform(dicts)\n",
    "\n",
    "  y_pred = lr.predict(X_val)\n",
    "  print(f'inference completed (avg. predicted duration: {y_pred.mean()})')\n",
    "\n",
    "  save_results(df, y_pred, output_file)\n",
    "  print(f'saved results in file {output_file} ({os.path.getsize(output_file) / 1024**2} MB)...')\n"
   ]
  },
  {
   "cell_type": "code",
   "execution_count": 5,
   "id": "f4ec88cd",
   "metadata": {},
   "outputs": [
    {
     "name": "stdout",
     "output_type": "stream",
     "text": [
      "inference completed (avg. predicted duration: 16.191691679979066)\n",
      "saved results in file ./fhv/2021-02.parquet (18.79835796356201 MB)...\n"
     ]
    }
   ],
   "source": [
    "apply_model(input_file, model_path, output_file)\n"
   ]
  },
  {
   "cell_type": "code",
   "execution_count": null,
   "id": "d41af821",
   "metadata": {},
   "outputs": [],
   "source": []
  }
 ],
 "metadata": {
  "kernelspec": {
   "display_name": "Python 3.9.7 64-bit ('mlops-zoomcamp')",
   "language": "python",
   "name": "python3"
  },
  "language_info": {
   "codemirror_mode": {
    "name": "ipython",
    "version": 3
   },
   "file_extension": ".py",
   "mimetype": "text/x-python",
   "name": "python",
   "nbconvert_exporter": "python",
   "pygments_lexer": "ipython3",
   "version": "3.9.7"
  },
  "vscode": {
   "interpreter": {
    "hash": "482ef92a2e6f3f8ea1014239ed5e6f52120fc690f898421d97078a5d143043c8"
   }
  }
 },
 "nbformat": 4,
 "nbformat_minor": 5
}
