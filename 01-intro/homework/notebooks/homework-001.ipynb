{
 "cells": [
  {
   "cell_type": "markdown",
   "id": "4b685844",
   "metadata": {},
   "source": [
    "# Homework 1\n",
    "\n",
    "AUTHOR: adamiaonr@gmail.com<br>\n",
    "DATE: May 21st 2022<br>\n"
   ]
  },
  {
   "cell_type": "code",
   "execution_count": 1,
   "id": "483ad539",
   "metadata": {},
   "outputs": [],
   "source": [
    "# ensure required python modules are installed (discard output)\n",
    "!pip install --quiet -r '../../../requirements.txt'\n"
   ]
  },
  {
   "cell_type": "code",
   "execution_count": 2,
   "id": "116ff2dc",
   "metadata": {},
   "outputs": [],
   "source": [
    "# imports & definitions\n",
    "import pandas as pd\n",
    "import seaborn as sns\n",
    "import matplotlib.pyplot as plt\n",
    "import warnings\n",
    "\n",
    "from pathlib import Path\n",
    "\n",
    "from sklearn.feature_extraction import DictVectorizer\n",
    "from sklearn.linear_model import LinearRegression\n",
    "from sklearn.metrics import mean_squared_error\n",
    "\n",
    "# data directory\n",
    "DATA_DIR = '../../../data/'\n",
    "\n",
    "# do not use scientific notation\n",
    "pd.set_option('display.float_format', lambda x: '%.5f' % x)\n",
    "\n",
    "# hide warnings\n",
    "warnings.filterwarnings('ignore')\n"
   ]
  },
  {
   "cell_type": "markdown",
   "id": "317b74e1",
   "metadata": {},
   "source": [
    "## Q1 : Downloading the data"
   ]
  },
  {
   "cell_type": "code",
   "execution_count": 3,
   "id": "80a8187a",
   "metadata": {},
   "outputs": [
    {
     "data": {
      "text/html": [
       "<div>\n",
       "<style scoped>\n",
       "    .dataframe tbody tr th:only-of-type {\n",
       "        vertical-align: middle;\n",
       "    }\n",
       "\n",
       "    .dataframe tbody tr th {\n",
       "        vertical-align: top;\n",
       "    }\n",
       "\n",
       "    .dataframe thead th {\n",
       "        text-align: right;\n",
       "    }\n",
       "</style>\n",
       "<table border=\"1\" class=\"dataframe\">\n",
       "  <thead>\n",
       "    <tr style=\"text-align: right;\">\n",
       "      <th></th>\n",
       "      <th>dispatching_base_num</th>\n",
       "      <th>pickup_datetime</th>\n",
       "      <th>dropOff_datetime</th>\n",
       "      <th>PUlocationID</th>\n",
       "      <th>DOlocationID</th>\n",
       "      <th>SR_Flag</th>\n",
       "      <th>Affiliated_base_number</th>\n",
       "      <th>month</th>\n",
       "    </tr>\n",
       "  </thead>\n",
       "  <tbody>\n",
       "    <tr>\n",
       "      <th>0</th>\n",
       "      <td>B00013</td>\n",
       "      <td>2021-02-01 00:01:00</td>\n",
       "      <td>2021-02-01 01:33:00</td>\n",
       "      <td>NaN</td>\n",
       "      <td>NaN</td>\n",
       "      <td>None</td>\n",
       "      <td>B00014</td>\n",
       "      <td>2021-02.parquet</td>\n",
       "    </tr>\n",
       "    <tr>\n",
       "      <th>1</th>\n",
       "      <td>B00021</td>\n",
       "      <td>2021-02-01 00:55:40</td>\n",
       "      <td>2021-02-01 01:06:20</td>\n",
       "      <td>173.00000</td>\n",
       "      <td>82.00000</td>\n",
       "      <td>None</td>\n",
       "      <td>B00021</td>\n",
       "      <td>2021-02.parquet</td>\n",
       "    </tr>\n",
       "    <tr>\n",
       "      <th>2</th>\n",
       "      <td>B00021</td>\n",
       "      <td>2021-02-01 00:14:03</td>\n",
       "      <td>2021-02-01 00:28:37</td>\n",
       "      <td>173.00000</td>\n",
       "      <td>56.00000</td>\n",
       "      <td>None</td>\n",
       "      <td>B00021</td>\n",
       "      <td>2021-02.parquet</td>\n",
       "    </tr>\n",
       "    <tr>\n",
       "      <th>3</th>\n",
       "      <td>B00021</td>\n",
       "      <td>2021-02-01 00:27:48</td>\n",
       "      <td>2021-02-01 00:35:45</td>\n",
       "      <td>82.00000</td>\n",
       "      <td>129.00000</td>\n",
       "      <td>None</td>\n",
       "      <td>B00021</td>\n",
       "      <td>2021-02.parquet</td>\n",
       "    </tr>\n",
       "    <tr>\n",
       "      <th>4</th>\n",
       "      <td>B00037</td>\n",
       "      <td>2021-02-01 00:12:50</td>\n",
       "      <td>2021-02-01 00:26:38</td>\n",
       "      <td>NaN</td>\n",
       "      <td>225.00000</td>\n",
       "      <td>None</td>\n",
       "      <td>B00037</td>\n",
       "      <td>2021-02.parquet</td>\n",
       "    </tr>\n",
       "    <tr>\n",
       "      <th>...</th>\n",
       "      <td>...</td>\n",
       "      <td>...</td>\n",
       "      <td>...</td>\n",
       "      <td>...</td>\n",
       "      <td>...</td>\n",
       "      <td>...</td>\n",
       "      <td>...</td>\n",
       "      <td>...</td>\n",
       "    </tr>\n",
       "    <tr>\n",
       "      <th>1154107</th>\n",
       "      <td>B03266</td>\n",
       "      <td>2021-01-31 23:43:03</td>\n",
       "      <td>2021-01-31 23:51:48</td>\n",
       "      <td>7.00000</td>\n",
       "      <td>7.00000</td>\n",
       "      <td>None</td>\n",
       "      <td>B03266</td>\n",
       "      <td>2021-01.parquet</td>\n",
       "    </tr>\n",
       "    <tr>\n",
       "      <th>1154108</th>\n",
       "      <td>B03284</td>\n",
       "      <td>2021-01-31 23:50:27</td>\n",
       "      <td>2021-02-01 00:48:03</td>\n",
       "      <td>44.00000</td>\n",
       "      <td>91.00000</td>\n",
       "      <td>None</td>\n",
       "      <td></td>\n",
       "      <td>2021-01.parquet</td>\n",
       "    </tr>\n",
       "    <tr>\n",
       "      <th>1154109</th>\n",
       "      <td>B03285</td>\n",
       "      <td>2021-01-31 23:13:46</td>\n",
       "      <td>2021-01-31 23:29:58</td>\n",
       "      <td>171.00000</td>\n",
       "      <td>171.00000</td>\n",
       "      <td>None</td>\n",
       "      <td>B03285</td>\n",
       "      <td>2021-01.parquet</td>\n",
       "    </tr>\n",
       "    <tr>\n",
       "      <th>1154110</th>\n",
       "      <td>B03285</td>\n",
       "      <td>2021-01-31 23:58:03</td>\n",
       "      <td>2021-02-01 00:17:29</td>\n",
       "      <td>15.00000</td>\n",
       "      <td>15.00000</td>\n",
       "      <td>None</td>\n",
       "      <td>B03285</td>\n",
       "      <td>2021-01.parquet</td>\n",
       "    </tr>\n",
       "    <tr>\n",
       "      <th>1154111</th>\n",
       "      <td>B03321</td>\n",
       "      <td>2021-01-31 23:39:00</td>\n",
       "      <td>2021-02-01 00:15:00</td>\n",
       "      <td>NaN</td>\n",
       "      <td>NaN</td>\n",
       "      <td>None</td>\n",
       "      <td>B03321</td>\n",
       "      <td>2021-01.parquet</td>\n",
       "    </tr>\n",
       "  </tbody>\n",
       "</table>\n",
       "<p>2191804 rows × 8 columns</p>\n",
       "</div>"
      ],
      "text/plain": [
       "        dispatching_base_num     pickup_datetime    dropOff_datetime  \\\n",
       "0                     B00013 2021-02-01 00:01:00 2021-02-01 01:33:00   \n",
       "1            B00021          2021-02-01 00:55:40 2021-02-01 01:06:20   \n",
       "2            B00021          2021-02-01 00:14:03 2021-02-01 00:28:37   \n",
       "3            B00021          2021-02-01 00:27:48 2021-02-01 00:35:45   \n",
       "4                     B00037 2021-02-01 00:12:50 2021-02-01 00:26:38   \n",
       "...                      ...                 ...                 ...   \n",
       "1154107               B03266 2021-01-31 23:43:03 2021-01-31 23:51:48   \n",
       "1154108               B03284 2021-01-31 23:50:27 2021-02-01 00:48:03   \n",
       "1154109      B03285          2021-01-31 23:13:46 2021-01-31 23:29:58   \n",
       "1154110      B03285          2021-01-31 23:58:03 2021-02-01 00:17:29   \n",
       "1154111               B03321 2021-01-31 23:39:00 2021-02-01 00:15:00   \n",
       "\n",
       "         PUlocationID  DOlocationID SR_Flag Affiliated_base_number  \\\n",
       "0                 NaN           NaN    None                 B00014   \n",
       "1           173.00000      82.00000    None        B00021            \n",
       "2           173.00000      56.00000    None        B00021            \n",
       "3            82.00000     129.00000    None        B00021            \n",
       "4                 NaN     225.00000    None                 B00037   \n",
       "...               ...           ...     ...                    ...   \n",
       "1154107       7.00000       7.00000    None                 B03266   \n",
       "1154108      44.00000      91.00000    None                          \n",
       "1154109     171.00000     171.00000    None        B03285            \n",
       "1154110      15.00000      15.00000    None        B03285            \n",
       "1154111           NaN           NaN    None                 B03321   \n",
       "\n",
       "                   month  \n",
       "0        2021-02.parquet  \n",
       "1        2021-02.parquet  \n",
       "2        2021-02.parquet  \n",
       "3        2021-02.parquet  \n",
       "4        2021-02.parquet  \n",
       "...                  ...  \n",
       "1154107  2021-01.parquet  \n",
       "1154108  2021-01.parquet  \n",
       "1154109  2021-01.parquet  \n",
       "1154110  2021-01.parquet  \n",
       "1154111  2021-01.parquet  \n",
       "\n",
       "[2191804 rows x 8 columns]"
      ]
     },
     "metadata": {},
     "output_type": "display_data"
    }
   ],
   "source": [
    "# load parquet data\n",
    "trip_data = pd.DataFrame()\n",
    "for path in Path(DATA_DIR).rglob('*.parquet'):\n",
    "    _trip_data = pd.read_parquet(path)\n",
    "    # add a ['month'] column to help distinguish the dataset the record came from\n",
    "    _trip_data['month'] = list(path.parts)[-1].split('_')[-1]\n",
    "    trip_data = pd.concat([trip_data, _trip_data])\n",
    "\n",
    "display(trip_data)\n"
   ]
  },
  {
   "cell_type": "code",
   "execution_count": 4,
   "id": "245fee54",
   "metadata": {},
   "outputs": [
    {
     "data": {
      "text/plain": [
       "'Q1: how many data records per month?'"
      ]
     },
     "metadata": {},
     "output_type": "display_data"
    },
    {
     "data": {
      "text/html": [
       "<div>\n",
       "<style scoped>\n",
       "    .dataframe tbody tr th:only-of-type {\n",
       "        vertical-align: middle;\n",
       "    }\n",
       "\n",
       "    .dataframe tbody tr th {\n",
       "        vertical-align: top;\n",
       "    }\n",
       "\n",
       "    .dataframe thead th {\n",
       "        text-align: right;\n",
       "    }\n",
       "</style>\n",
       "<table border=\"1\" class=\"dataframe\">\n",
       "  <thead>\n",
       "    <tr style=\"text-align: right;\">\n",
       "      <th></th>\n",
       "      <th>month</th>\n",
       "      <th>count</th>\n",
       "    </tr>\n",
       "  </thead>\n",
       "  <tbody>\n",
       "    <tr>\n",
       "      <th>0</th>\n",
       "      <td>2021-01.parquet</td>\n",
       "      <td>1154112</td>\n",
       "    </tr>\n",
       "    <tr>\n",
       "      <th>1</th>\n",
       "      <td>2021-02.parquet</td>\n",
       "      <td>1037692</td>\n",
       "    </tr>\n",
       "  </tbody>\n",
       "</table>\n",
       "</div>"
      ],
      "text/plain": [
       "             month    count\n",
       "0  2021-01.parquet  1154112\n",
       "1  2021-02.parquet  1037692"
      ]
     },
     "metadata": {},
     "output_type": "display_data"
    }
   ],
   "source": [
    "display('Q1: how many data records per month?')\n",
    "display(trip_data.groupby(['month']).size().reset_index(drop = False, name = 'count'))\n"
   ]
  },
  {
   "cell_type": "markdown",
   "id": "4a88bdb7",
   "metadata": {},
   "source": [
    "## Q2 : Computing duration"
   ]
  },
  {
   "cell_type": "code",
   "execution_count": 5,
   "id": "dca5af57",
   "metadata": {},
   "outputs": [
    {
     "data": {
      "text/plain": [
       "'Q2: average trip duration (in minutes) per month?'"
      ]
     },
     "metadata": {},
     "output_type": "display_data"
    },
    {
     "data": {
      "text/html": [
       "<div>\n",
       "<style scoped>\n",
       "    .dataframe tbody tr th:only-of-type {\n",
       "        vertical-align: middle;\n",
       "    }\n",
       "\n",
       "    .dataframe tbody tr th {\n",
       "        vertical-align: top;\n",
       "    }\n",
       "\n",
       "    .dataframe thead th {\n",
       "        text-align: right;\n",
       "    }\n",
       "</style>\n",
       "<table border=\"1\" class=\"dataframe\">\n",
       "  <thead>\n",
       "    <tr style=\"text-align: right;\">\n",
       "      <th></th>\n",
       "      <th>month</th>\n",
       "      <th>duration</th>\n",
       "    </tr>\n",
       "  </thead>\n",
       "  <tbody>\n",
       "    <tr>\n",
       "      <th>0</th>\n",
       "      <td>2021-01.parquet</td>\n",
       "      <td>19.16722</td>\n",
       "    </tr>\n",
       "    <tr>\n",
       "      <th>1</th>\n",
       "      <td>2021-02.parquet</td>\n",
       "      <td>20.70699</td>\n",
       "    </tr>\n",
       "  </tbody>\n",
       "</table>\n",
       "</div>"
      ],
      "text/plain": [
       "             month  duration\n",
       "0  2021-01.parquet  19.16722\n",
       "1  2021-02.parquet  20.70699"
      ]
     },
     "metadata": {},
     "output_type": "display_data"
    }
   ],
   "source": [
    "display('Q2: average trip duration (in minutes) per month?')\n",
    "\n",
    "# add column with trip duration (in minutes)\n",
    "trip_data['duration'] = ((trip_data['dropOff_datetime'] - trip_data['pickup_datetime']) / pd.Timedelta('1m')).astype(float)\n",
    "display(trip_data.groupby(['month'])['duration'].mean().reset_index(drop = False))\n"
   ]
  },
  {
   "cell_type": "code",
   "execution_count": 6,
   "id": "93e69666",
   "metadata": {},
   "outputs": [
    {
     "data": {
      "text/plain": [
       "\"initial distribution of ['duration'] (Jan and Feb 2021)\""
      ]
     },
     "metadata": {},
     "output_type": "display_data"
    },
    {
     "data": {
      "text/plain": [
       "count   2191804.00000\n",
       "mean         19.89621\n",
       "std         309.82000\n",
       "min           0.01667\n",
       "25%           7.90000\n",
       "50%          13.76667\n",
       "75%          23.00000\n",
       "max      423371.05000\n",
       "Name: duration, dtype: float64"
      ]
     },
     "metadata": {},
     "output_type": "display_data"
    },
    {
     "data": {
      "text/plain": [
       "'how many records were dropped (Jan and Feb 2021)?'"
      ]
     },
     "metadata": {},
     "output_type": "display_data"
    },
    {
     "data": {
      "text/plain": [
       "91865"
      ]
     },
     "metadata": {},
     "output_type": "display_data"
    }
   ],
   "source": [
    "# check distribution of the duration variable\n",
    "display(\"initial distribution of ['duration'] (Jan and Feb 2021)\")\n",
    "display(trip_data['duration'].describe())\n",
    "\n",
    "# filter data : keep durations in interval [1.0, 60.0]\n",
    "mask = ((trip_data['duration'] >= 1) & (trip_data['duration'] <= 60))\n",
    "trip_data_filtered = trip_data[mask].reset_index(drop = True)\n",
    "\n",
    "# how many records were dropped?\n",
    "display('how many records were dropped (Jan and Feb 2021)?')\n",
    "display(len(trip_data) - len(trip_data_filtered))\n"
   ]
  },
  {
   "cell_type": "markdown",
   "id": "c887b6d4",
   "metadata": {},
   "source": [
    "## Q3 : Missing values"
   ]
  },
  {
   "cell_type": "code",
   "execution_count": 7,
   "id": "b443058f",
   "metadata": {},
   "outputs": [
    {
     "data": {
      "text/plain": [
       "'Q3: fraction of missing values for the PUlocationID (Jan 2021 only)'"
      ]
     },
     "metadata": {},
     "output_type": "display_data"
    },
    {
     "data": {
      "text/plain": [
       "0.8352732770722617"
      ]
     },
     "metadata": {},
     "output_type": "display_data"
    }
   ],
   "source": [
    "# replace missing ['PUlocationID', 'DOlocationID'] w/ '-1'\n",
    "trip_data_filtered.fillna(value = {'PUlocationID' : -1, 'DOlocationID' : -1}, inplace = True)\n",
    "\n",
    "display('Q3: fraction of missing values for the PUlocationID (Jan 2021 only)')\n",
    "\n",
    "# let's use Alexey Grigorev neat trick around 12:25 of https://www.youtube.com/watch?v=iRunifGSHFc\n",
    "trip_data_filtered_january = trip_data_filtered[trip_data_filtered['month'].str.contains('2021-01')].reset_index(drop = True)\n",
    "display((trip_data_filtered_january['PUlocationID'] == -1).mean())\n"
   ]
  },
  {
   "cell_type": "markdown",
   "id": "81d12850",
   "metadata": {},
   "source": [
    "## Q4 : One-hot encoding"
   ]
  },
  {
   "cell_type": "code",
   "execution_count": 8,
   "id": "9e6fd6de",
   "metadata": {},
   "outputs": [],
   "source": [
    "# categorical features : location IDs\n",
    "categorical = ['PUlocationID', 'DOlocationID']\n",
    "\n",
    "# need to pass them to str so that to make them ready for dict vectorizer\n",
    "trip_data_filtered[categorical] = trip_data_filtered[categorical].astype(int).astype(str)\n"
   ]
  },
  {
   "cell_type": "code",
   "execution_count": 9,
   "id": "70c4fefc",
   "metadata": {},
   "outputs": [],
   "source": [
    "# transform data frame columns into dictionaries (Jan 2021 only)\n",
    "train_dicts = trip_data_filtered[trip_data_filtered['month'].str.contains('2021-01')][categorical].to_dict(orient = 'records')\n",
    "\n",
    "# fit a dictionary vectorizer\n",
    "vectorizer = DictVectorizer()\n",
    "X_train = vectorizer.fit_transform(train_dicts)\n"
   ]
  },
  {
   "cell_type": "code",
   "execution_count": 10,
   "id": "89cf75b9",
   "metadata": {},
   "outputs": [
    {
     "data": {
      "text/plain": [
       "'Q4 : dimensions of feature matrix (Jan 2021 only)'"
      ]
     },
     "metadata": {},
     "output_type": "display_data"
    },
    {
     "data": {
      "text/plain": [
       "(1109826, 525)"
      ]
     },
     "execution_count": 10,
     "metadata": {},
     "output_type": "execute_result"
    }
   ],
   "source": [
    "display('Q4 : dimensions of feature matrix (Jan 2021 only)')\n",
    "X_train.shape\n"
   ]
  },
  {
   "cell_type": "markdown",
   "id": "b1e69fee",
   "metadata": {},
   "source": [
    "## Q5 : Training a model"
   ]
  },
  {
   "cell_type": "code",
   "execution_count": 11,
   "id": "87605610",
   "metadata": {},
   "outputs": [],
   "source": [
    "# target variable (Jan 2021 only)\n",
    "target = 'duration'\n",
    "y_train = trip_data_filtered[trip_data_filtered['month'].str.contains('2021-01')][target].values\n"
   ]
  },
  {
   "cell_type": "code",
   "execution_count": 12,
   "id": "3ee8b983",
   "metadata": {},
   "outputs": [
    {
     "data": {
      "text/html": [
       "<style>#sk-container-id-1 {color: black;background-color: white;}#sk-container-id-1 pre{padding: 0;}#sk-container-id-1 div.sk-toggleable {background-color: white;}#sk-container-id-1 label.sk-toggleable__label {cursor: pointer;display: block;width: 100%;margin-bottom: 0;padding: 0.3em;box-sizing: border-box;text-align: center;}#sk-container-id-1 label.sk-toggleable__label-arrow:before {content: \"▸\";float: left;margin-right: 0.25em;color: #696969;}#sk-container-id-1 label.sk-toggleable__label-arrow:hover:before {color: black;}#sk-container-id-1 div.sk-estimator:hover label.sk-toggleable__label-arrow:before {color: black;}#sk-container-id-1 div.sk-toggleable__content {max-height: 0;max-width: 0;overflow: hidden;text-align: left;background-color: #f0f8ff;}#sk-container-id-1 div.sk-toggleable__content pre {margin: 0.2em;color: black;border-radius: 0.25em;background-color: #f0f8ff;}#sk-container-id-1 input.sk-toggleable__control:checked~div.sk-toggleable__content {max-height: 200px;max-width: 100%;overflow: auto;}#sk-container-id-1 input.sk-toggleable__control:checked~label.sk-toggleable__label-arrow:before {content: \"▾\";}#sk-container-id-1 div.sk-estimator input.sk-toggleable__control:checked~label.sk-toggleable__label {background-color: #d4ebff;}#sk-container-id-1 div.sk-label input.sk-toggleable__control:checked~label.sk-toggleable__label {background-color: #d4ebff;}#sk-container-id-1 input.sk-hidden--visually {border: 0;clip: rect(1px 1px 1px 1px);clip: rect(1px, 1px, 1px, 1px);height: 1px;margin: -1px;overflow: hidden;padding: 0;position: absolute;width: 1px;}#sk-container-id-1 div.sk-estimator {font-family: monospace;background-color: #f0f8ff;border: 1px dotted black;border-radius: 0.25em;box-sizing: border-box;margin-bottom: 0.5em;}#sk-container-id-1 div.sk-estimator:hover {background-color: #d4ebff;}#sk-container-id-1 div.sk-parallel-item::after {content: \"\";width: 100%;border-bottom: 1px solid gray;flex-grow: 1;}#sk-container-id-1 div.sk-label:hover label.sk-toggleable__label {background-color: #d4ebff;}#sk-container-id-1 div.sk-serial::before {content: \"\";position: absolute;border-left: 1px solid gray;box-sizing: border-box;top: 0;bottom: 0;left: 50%;z-index: 0;}#sk-container-id-1 div.sk-serial {display: flex;flex-direction: column;align-items: center;background-color: white;padding-right: 0.2em;padding-left: 0.2em;position: relative;}#sk-container-id-1 div.sk-item {position: relative;z-index: 1;}#sk-container-id-1 div.sk-parallel {display: flex;align-items: stretch;justify-content: center;background-color: white;position: relative;}#sk-container-id-1 div.sk-item::before, #sk-container-id-1 div.sk-parallel-item::before {content: \"\";position: absolute;border-left: 1px solid gray;box-sizing: border-box;top: 0;bottom: 0;left: 50%;z-index: -1;}#sk-container-id-1 div.sk-parallel-item {display: flex;flex-direction: column;z-index: 1;position: relative;background-color: white;}#sk-container-id-1 div.sk-parallel-item:first-child::after {align-self: flex-end;width: 50%;}#sk-container-id-1 div.sk-parallel-item:last-child::after {align-self: flex-start;width: 50%;}#sk-container-id-1 div.sk-parallel-item:only-child::after {width: 0;}#sk-container-id-1 div.sk-dashed-wrapped {border: 1px dashed gray;margin: 0 0.4em 0.5em 0.4em;box-sizing: border-box;padding-bottom: 0.4em;background-color: white;}#sk-container-id-1 div.sk-label label {font-family: monospace;font-weight: bold;display: inline-block;line-height: 1.2em;}#sk-container-id-1 div.sk-label-container {text-align: center;}#sk-container-id-1 div.sk-container {/* jupyter's `normalize.less` sets `[hidden] { display: none; }` but bootstrap.min.css set `[hidden] { display: none !important; }` so we also need the `!important` here to be able to override the default hidden behavior on the sphinx rendered scikit-learn.org. See: https://github.com/scikit-learn/scikit-learn/issues/21755 */display: inline-block !important;position: relative;}#sk-container-id-1 div.sk-text-repr-fallback {display: none;}</style><div id=\"sk-container-id-1\" class=\"sk-top-container\"><div class=\"sk-text-repr-fallback\"><pre>LinearRegression()</pre><b>In a Jupyter environment, please rerun this cell to show the HTML representation or trust the notebook. <br />On GitHub, the HTML representation is unable to render, please try loading this page with nbviewer.org.</b></div><div class=\"sk-container\" hidden><div class=\"sk-item\"><div class=\"sk-estimator sk-toggleable\"><input class=\"sk-toggleable__control sk-hidden--visually\" id=\"sk-estimator-id-1\" type=\"checkbox\" checked><label for=\"sk-estimator-id-1\" class=\"sk-toggleable__label sk-toggleable__label-arrow\">LinearRegression</label><div class=\"sk-toggleable__content\"><pre>LinearRegression()</pre></div></div></div></div></div>"
      ],
      "text/plain": [
       "LinearRegression()"
      ]
     },
     "execution_count": 12,
     "metadata": {},
     "output_type": "execute_result"
    }
   ],
   "source": [
    "# train simple linear regression model (Jan 2021 only)\n",
    "linear_regression = LinearRegression()\n",
    "linear_regression.fit(X_train, y_train)\n"
   ]
  },
  {
   "cell_type": "code",
   "execution_count": 13,
   "id": "b8cb9e44",
   "metadata": {},
   "outputs": [],
   "source": [
    "# apply model to train dataset \n",
    "y_predict = linear_regression.predict(X_train)\n"
   ]
  },
  {
   "cell_type": "code",
   "execution_count": 14,
   "id": "77f8b085",
   "metadata": {},
   "outputs": [
    {
     "data": {
      "text/plain": [
       "<matplotlib.legend.Legend at 0x7f195f569340>"
      ]
     },
     "execution_count": 14,
     "metadata": {},
     "output_type": "execute_result"
    },
    {
     "data": {
      "image/png": "[encoded data removed]",
      "text/plain": [
       "<Figure size 432x288 with 1 Axes>"
      ]
     },
     "metadata": {
      "needs_background": "light"
     },
     "output_type": "display_data"
    }
   ],
   "source": [
    "# plot distributions of 'actual' and 'predicted' values\n",
    "sns.distplot(y_predict, label = 'predicted')\n",
    "sns.distplot(y_train, label = 'actual')\n",
    "\n",
    "plt.legend()\n"
   ]
  },
  {
   "cell_type": "code",
   "execution_count": 15,
   "id": "b0280b1c",
   "metadata": {},
   "outputs": [
    {
     "data": {
      "text/plain": [
       "'Q5 : RMSE on training data'"
      ]
     },
     "metadata": {},
     "output_type": "display_data"
    },
    {
     "data": {
      "text/plain": [
       "10.52851938944385"
      ]
     },
     "metadata": {},
     "output_type": "display_data"
    }
   ],
   "source": [
    "display('Q5 : RMSE on training data')\n",
    "display(mean_squared_error(y_train, y_predict, squared = False))\n"
   ]
  },
  {
   "cell_type": "markdown",
   "id": "c50a90c1",
   "metadata": {},
   "source": [
    "## Q6 : Evaluating the model\n"
   ]
  },
  {
   "cell_type": "code",
   "execution_count": 16,
   "id": "d5a86ea4",
   "metadata": {},
   "outputs": [
    {
     "data": {
      "text/plain": [
       "'shape of validation feature matrix'"
      ]
     },
     "metadata": {},
     "output_type": "display_data"
    },
    {
     "data": {
      "text/plain": [
       "(990113, 525)"
      ]
     },
     "metadata": {},
     "output_type": "display_data"
    }
   ],
   "source": [
    "# validation data (Feb 2021)\n",
    "val_dicts = trip_data_filtered[trip_data_filtered['month'].str.contains('2021-02')][categorical].to_dict(orient = 'records')\n",
    "\n",
    "# dictionary vectorizer (note: only 'transform()' used here, not 'fit_transform()')\n",
    "X_val = vectorizer.transform(val_dicts)\n",
    "\n",
    "display('shape of validation feature matrix')\n",
    "display(X_val.shape)\n"
   ]
  },
  {
   "cell_type": "code",
   "execution_count": 17,
   "id": "9ff510f8",
   "metadata": {},
   "outputs": [],
   "source": [
    "# actual duration data for Feb 2021\n",
    "y_val = trip_data_filtered[trip_data_filtered['month'].str.contains('2021-02')][target].values\n",
    "\n",
    "# run eval data (Feb 2021) through model trained with Jan 2021 data\n",
    "y_val_predict = linear_regression.predict(X_val)\n"
   ]
  },
  {
   "cell_type": "code",
   "execution_count": 18,
   "id": "616c646b",
   "metadata": {},
   "outputs": [
    {
     "data": {
      "text/plain": [
       "'Q6 : RMSE on validation data (Feb 2021)'"
      ]
     },
     "metadata": {},
     "output_type": "display_data"
    },
    {
     "data": {
      "text/plain": [
       "11.014286426107942"
      ]
     },
     "metadata": {},
     "output_type": "display_data"
    }
   ],
   "source": [
    "display('Q6 : RMSE on validation data (Feb 2021)')\n",
    "display(mean_squared_error(y_val, y_val_predict, squared = False))\n"
   ]
  },
  {
   "cell_type": "code",
   "execution_count": null,
   "id": "f1a89204",
   "metadata": {},
   "outputs": [],
   "source": []
  }
 ],
 "metadata": {
  "kernelspec": {
   "display_name": "Python 3 (ipykernel)",
   "language": "python",
   "name": "python3"
  },
  "language_info": {
   "codemirror_mode": {
    "name": "ipython",
    "version": 3
   },
   "file_extension": ".py",
   "mimetype": "text/x-python",
   "name": "python",
   "nbconvert_exporter": "python",
   "pygments_lexer": "ipython3",
   "version": "3.9.7"
  }
 },
 "nbformat": 4,
 "nbformat_minor": 5
}
